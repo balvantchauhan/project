{
 "cells": [
  {
   "cell_type": "markdown",
   "metadata": {},
   "source": [
    "## Exploratory Data Analysis (EDA)"
   ]
  },
  {
   "cell_type": "markdown",
   "metadata": {},
   "source": [
    "### Import Required Libraries."
   ]
  },
  {
   "cell_type": "code",
   "execution_count": null,
   "metadata": {},
   "outputs": [],
   "source": [
    "import os\n",
    "import tensorflow as tf\n",
    "from tensorflow.keras.preprocessing import image\n",
    "import matplotlib.pyplot as plt\n",
    "import seaborn as sns\n",
    "import matplotlib.image as mpimg\n",
    "from basic_image_eda import BasicImageEDA\n",
    "import csv\n",
    "import pandas as pd\n",
    "\n",
    "\n",
    "DATA_PATH = \"\\\\Users\\\\bchau\\\\Projects\\\\Thesis\\\\dataset\""
   ]
  },
  {
   "cell_type": "code",
   "execution_count": null,
   "metadata": {},
   "outputs": [],
   "source": [
    "pip install opencv-python"
   ]
  },
  {
   "cell_type": "code",
   "execution_count": null,
   "metadata": {},
   "outputs": [],
   "source": [
    "# get all video frame files.\n",
    "SUPPORTED_EXTENSIONS = ['.jpg', '.JPG', '.jpeg', '.JPEG', '.png', '.PNG']\n",
    "def get_file_list(root_dir):\n",
    "    file_list =[]\n",
    "    for root, directories, filenames in os.walk(root_dir):\n",
    "        for filename in filenames:\n",
    "            if any(ext in filename for ext in SUPPORTED_EXTENSIONS):\n",
    "                file_list.append(os.path.join(root, filename))\n",
    "    return file_list"
   ]
  },
  {
   "cell_type": "code",
   "execution_count": null,
   "metadata": {},
   "outputs": [],
   "source": [
    "# Let's have a look on total number of frame in dataset\n",
    "filenames = sorted(get_file_list(DATA_PATH))\n",
    "print('Tolat number of video frames in CDNET DATASET -',len(filenames))"
   ]
  },
  {
   "cell_type": "markdown",
   "metadata": {},
   "source": [
    "#### plot images"
   ]
  },
  {
   "cell_type": "code",
   "execution_count": null,
   "metadata": {},
   "outputs": [],
   "source": [
    "# Helper function to get the class name and file name\n",
    "def classname_filename(str):\n",
    "   # print(str)\n",
    "   # print(str.split('\\\\'))\n",
    "    return str.split('\\\\')[-2] + '/' + str.split('/')[-1]\n",
    "        "
   ]
  },
  {
   "cell_type": "code",
   "execution_count": null,
   "metadata": {},
   "outputs": [],
   "source": [
    "# Let's have a look in few dataset video frames.\n",
    "def plot_images(filenames):\n",
    "    images = []\n",
    "    for filename in filenames:\n",
    "        images.append(mpimg.imread(filename))\n",
    "        plt.figure(figsize=(5, 5))\n",
    "    for index, image in enumerate(images):\n",
    "        ax = plt.subplots()\n",
    "        plt.title(classname_filename(filenames[index]))\n",
    "        plt.imshow(image)"
   ]
  },
  {
   "cell_type": "code",
   "execution_count": null,
   "metadata": {},
   "outputs": [],
   "source": [
    "plot_images(filenames[20:30])"
   ]
  },
  {
   "cell_type": "code",
   "execution_count": null,
   "metadata": {},
   "outputs": [],
   "source": [
    "# Defining a method to do a basic EDA on each category of CDNET dataset.\n",
    "def image_EDA(category):\n",
    "    data_path = DATA_PATH + '/' + category\n",
    "    extensions = ['png', 'jpg', 'jpeg']\n",
    "    threads = 0\n",
    "    dimension_plot = True\n",
    "    channel_hist = True\n",
    "    nonzero = False\n",
    "    hw_division_factor = 1.0\n",
    "    #BasicImageEDA.explore(data_path, extensions, threads, dimension_plot, channel_hist, nonzero, hw_division_factor)"
   ]
  },
  {
   "cell_type": "code",
   "execution_count": null,
   "metadata": {},
   "outputs": [],
   "source": [
    "# Method for extract data and write a csv file for EDA\n",
    "root_dir = DATA_PATH \n",
    "def extract_eda_stats():\n",
    "    categories = list(filter(lambda file : file != '.DS_Store',os.listdir(DATA_PATH)))\n",
    "    header = ['category', 'sub_category', 'input', 'ground_truth']\n",
    "    # state file name\n",
    "    filename = \"cdnet.csv\"\n",
    "    with open(filename, 'w', encoding='UTF8') as f:\n",
    "        writer = csv.writer(f)\n",
    "        # write the header\n",
    "        writer.writerow(header)\n",
    "        for category_index, category in enumerate(categories):\n",
    "            path = os.path.join(root_dir, category)\n",
    "            sub_category = list(filter(lambda file : file != '.DS_Store',os.listdir(path)))\n",
    "            for sub_category_index, input_ground in enumerate(sub_category):\n",
    "                data_path = os.path.join(path, input_ground)\n",
    "                input_ground = list(filter(lambda file : file != '.DS_Store',os.listdir(data_path)))\n",
    "                input_path   = os.path.join(data_path, input_ground[0])\n",
    "                groundtruth_path   = os.path.join(data_path, input_ground[1])\n",
    "                no_of_input = len(next(os.walk(input_path))[2])\n",
    "                no_of_groundtruth = len(next(os.walk(groundtruth_path))[2])\n",
    "                data = [categories[category_index], sub_category[sub_category_index], no_of_input, no_of_groundtruth]\n",
    "                # write the data\n",
    "                writer.writerow(data)"
   ]
  },
  {
   "cell_type": "code",
   "execution_count": null,
   "metadata": {},
   "outputs": [],
   "source": [
    "# Let's have a look on data and it's category in dataset\n",
    "extract_eda_stats()\n",
    "file_name = 'cdnet.csv'\n",
    "data_path = os.path.join(os.curdir, file_name)\n",
    "print(data_path)\n",
    "data = pd.read_csv(data_path)\n",
    "category = data['category'].unique()\n",
    "print('Total number of category',len(category))"
   ]
  },
  {
   "cell_type": "markdown",
   "metadata": {},
   "source": [
    "#### CDNET dataset having 11 category in it.\n",
    "\n",
    "All the category have input frames and it's corponding groundtruth. So, Let's explore how many frames in each category and there groundtruth."
   ]
  },
  {
   "cell_type": "markdown",
   "metadata": {},
   "source": [
    "### Let's explore the data by using some plots"
   ]
  },
  {
   "cell_type": "code",
   "execution_count": null,
   "metadata": {},
   "outputs": [],
   "source": [
    "# Defining a method to plot the graph\n",
    "def plot(input_groundtruth):\n",
    "    data_frame = data.groupby('category')[input_groundtruth].sum().sort_values(ascending=False).to_frame()\n",
    "    plt.figure(num=None, figsize=(15, 5))\n",
    "    bar=sns.barplot(x='category', y=input_groundtruth, data=data_frame.reset_index())\n",
    "    bar.set(xlabel='Categories', ylabel='Number of frames')\n",
    "    bar.set_xticklabels(bar.get_xticklabels(), rotation=90)\n",
    "    bar.set_title('CDNET DATASET')"
   ]
  },
  {
   "cell_type": "code",
   "execution_count": null,
   "metadata": {
    "scrolled": true
   },
   "outputs": [],
   "source": [
    "# Total number of input image frames in each category.\n",
    "plot('input')"
   ]
  },
  {
   "cell_type": "code",
   "execution_count": null,
   "metadata": {},
   "outputs": [],
   "source": [
    "# Total number of groundtruth image frames in each category.\n",
    "plot('ground_truth')"
   ]
  },
  {
   "cell_type": "markdown",
   "metadata": {},
   "source": [
    "CDNET data set have 11 category and each and every category have sub category in it. So let's plot the all sub category together."
   ]
  },
  {
   "cell_type": "code",
   "execution_count": null,
   "metadata": {},
   "outputs": [],
   "source": [
    "plt.figure(num=None, figsize=(25, 25))\n",
    "data.plot(x='sub_category',\n",
    "        kind='bar',\n",
    "        stacked=False,\n",
    "        title='CDNET data set all sub category frames distribution',\n",
    "        figsize=(15, 7),xlabel='all sub categories', ylabel='Number of frames')"
   ]
  },
  {
   "cell_type": "code",
   "execution_count": null,
   "metadata": {},
   "outputs": [],
   "source": [
    "# Defining a method to plot all subcategory for each and every category.\n",
    "def plat_category_data(category):\n",
    "    category_frame = data[data['category'] == category]\n",
    "    category_frame.plot(x='sub_category',\n",
    "        kind='bar',\n",
    "        stacked=False,\n",
    "        title=category,\n",
    "        figsize=(10, 5),xlabel='sub categories', ylabel='Number of frames')"
   ]
  },
  {
   "cell_type": "code",
   "execution_count": null,
   "metadata": {},
   "outputs": [],
   "source": [
    "# category wise input and groundtruth frames \n",
    "categories = data['category'].unique()\n",
    "category_1 = categories[0]\n",
    "plat_category_data(category_1)"
   ]
  },
  {
   "cell_type": "code",
   "execution_count": null,
   "metadata": {},
   "outputs": [],
   "source": [
    "print('Basic EDA on category : ' + category_1)\n",
    "image_EDA(category_1)"
   ]
  },
  {
   "cell_type": "code",
   "execution_count": null,
   "metadata": {},
   "outputs": [],
   "source": [
    "category_2 = categories[1]\n",
    "plat_category_data(category_2)"
   ]
  },
  {
   "cell_type": "code",
   "execution_count": null,
   "metadata": {},
   "outputs": [],
   "source": [
    "print('Basic EDA on category : ' + category_2)\n",
    "image_EDA(category_2)"
   ]
  },
  {
   "cell_type": "code",
   "execution_count": null,
   "metadata": {},
   "outputs": [],
   "source": [
    "category_3 = categories[2]\n",
    "plat_category_data(category_3)"
   ]
  },
  {
   "cell_type": "code",
   "execution_count": null,
   "metadata": {},
   "outputs": [],
   "source": [
    "print('Basic EDA on category : ' + category_3)\n",
    "image_EDA(category_3)"
   ]
  },
  {
   "cell_type": "code",
   "execution_count": null,
   "metadata": {},
   "outputs": [],
   "source": [
    "category_4 = categories[3]\n",
    "plat_category_data(category_4)"
   ]
  },
  {
   "cell_type": "code",
   "execution_count": null,
   "metadata": {},
   "outputs": [],
   "source": [
    "print('Basic EDA on category : ' + category_4)\n",
    "image_EDA(category_4)"
   ]
  },
  {
   "cell_type": "code",
   "execution_count": null,
   "metadata": {},
   "outputs": [],
   "source": [
    "category_5 = categories[4]\n",
    "plat_category_data(category_5)"
   ]
  },
  {
   "cell_type": "code",
   "execution_count": null,
   "metadata": {},
   "outputs": [],
   "source": [
    "print('Basic EDA on category : ' + category_5)\n",
    "image_EDA(category_5)"
   ]
  },
  {
   "cell_type": "code",
   "execution_count": null,
   "metadata": {
    "scrolled": true
   },
   "outputs": [],
   "source": [
    "category_6 = categories[5]\n",
    "plat_category_data(category_6)"
   ]
  },
  {
   "cell_type": "code",
   "execution_count": null,
   "metadata": {},
   "outputs": [],
   "source": [
    "print('Basic EDA on category : ' + category_6)\n",
    "image_EDA(category_6)"
   ]
  },
  {
   "cell_type": "code",
   "execution_count": null,
   "metadata": {},
   "outputs": [],
   "source": [
    "category_7 = categories[6]\n",
    "plat_category_data(category_7)"
   ]
  },
  {
   "cell_type": "code",
   "execution_count": null,
   "metadata": {},
   "outputs": [],
   "source": [
    "print('Basic EDA on category : ' + category_7)\n",
    "image_EDA(category_7)"
   ]
  },
  {
   "cell_type": "code",
   "execution_count": null,
   "metadata": {},
   "outputs": [],
   "source": [
    "category_8 = categories[7]\n",
    "plat_category_data(category_8)"
   ]
  },
  {
   "cell_type": "code",
   "execution_count": null,
   "metadata": {},
   "outputs": [],
   "source": [
    "print('Basic EDA on category : ' + category_8)\n",
    "image_EDA(category_8)"
   ]
  },
  {
   "cell_type": "code",
   "execution_count": null,
   "metadata": {},
   "outputs": [],
   "source": [
    "category_9 = categories[8]\n",
    "plat_category_data(category_9)"
   ]
  },
  {
   "cell_type": "code",
   "execution_count": null,
   "metadata": {},
   "outputs": [],
   "source": [
    "print('Basic EDA on category : ' + category_9)\n",
    "image_EDA(category_9)"
   ]
  },
  {
   "cell_type": "code",
   "execution_count": null,
   "metadata": {},
   "outputs": [],
   "source": [
    "category_10 = categories[9]\n",
    "plat_category_data(category_10)"
   ]
  },
  {
   "cell_type": "code",
   "execution_count": null,
   "metadata": {},
   "outputs": [],
   "source": [
    "print('Basic EDA on category : ' + category_10)\n",
    "image_EDA(category_10)"
   ]
  },
  {
   "cell_type": "code",
   "execution_count": null,
   "metadata": {},
   "outputs": [],
   "source": [
    "category_11 = categories[10]\n",
    "plat_category_data(category_11)"
   ]
  },
  {
   "cell_type": "code",
   "execution_count": null,
   "metadata": {},
   "outputs": [],
   "source": [
    "print('Basic EDA on category : ' + category_11)\n",
    "image_EDA(category_11)"
   ]
  }
 ],
 "metadata": {
  "kernelspec": {
   "display_name": "Python 3 (ipykernel)",
   "language": "python",
   "name": "python3"
  },
  "language_info": {
   "codemirror_mode": {
    "name": "ipython",
    "version": 3
   },
   "file_extension": ".py",
   "mimetype": "text/x-python",
   "name": "python",
   "nbconvert_exporter": "python",
   "pygments_lexer": "ipython3",
   "version": "3.8.8"
  }
 },
 "nbformat": 4,
 "nbformat_minor": 4
}
